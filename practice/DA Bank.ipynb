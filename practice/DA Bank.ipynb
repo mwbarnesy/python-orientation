{
 "cells": [
  {
   "cell_type": "markdown",
   "metadata": {},
   "source": [
    "# DA Bank\n",
    "\n",
    "## Part I: Coins to Cash\n",
    "\n",
    "Create a function called `calc_dollars`. \n",
    "In the function body, define a dictionary and store it in a variable named `piggy_bank`. \n",
    "The dictionary should have the following keys defined.\n",
    "* quarters\n",
    "* nickels\n",
    "* dimes\n",
    "* pennies\n",
    "\n",
    "For each coin type, give yourself as many as you like.\n",
    "```py\n",
    "piggy_bank = {\n",
    "    \"pennies\": 342,\n",
    "    \"nickels\": 9,\n",
    "    \"dimes\": 32\n",
    "}\n",
    "```\n",
    "\n",
    "Once you have given yourself a large stash of coins in your `piggy_bank`, look at each key and perform the appropriate math on the integer value to determine how much money you have in dollars. \n",
    "Store that value in a variable named `dollar_amount` and print it.\n",
    "\n",
    "Given the coins shown above, the output would be `7.07` when you call `calc_dollars()`."
   ]
  },
  {
   "cell_type": "code",
   "execution_count": 110,
   "metadata": {},
   "outputs": [],
   "source": [
    "def calc_dollars(my_piggy_bank):\n",
    "    \"\"\"Pass a piggy bank with specific amounts for each coin, return the dollar amount.\"\"\"\n",
    "    for value in piggy_bank:\n",
    "        \n"
   ]
  },
  {
   "cell_type": "code",
   "execution_count": null,
   "metadata": {},
   "outputs": [],
   "source": []
  },
  {
   "cell_type": "code",
   "execution_count": null,
   "metadata": {},
   "outputs": [],
   "source": []
  },
  {
   "cell_type": "code",
   "execution_count": 98,
   "metadata": {},
   "outputs": [],
   "source": [
    "# def calc_dollars(my_piggy_bank):\n",
    "#     \"\"\"Calculate the total dollars in the piggy bank.\"\"\"\n",
    "#     piggy_bank = {\n",
    "#         \"quarters\": quarters/4,\n",
    "#         \"nickels\": nickels/20,\n",
    "#         \"dimes\": dimes/10,\n",
    "#         \"pennies\": pennies/100\n",
    "#     }\n",
    "#     sum_dollars = (piggy_bank[\"quarters\"]) + (piggy_bank[\"nickels\"]) + (piggy_bank[\"dimes\"]) + (piggy_bank[\"pennies\"])\n",
    "#     return sum_dollars"
   ]
  },
  {
   "cell_type": "code",
   "execution_count": 99,
   "metadata": {},
   "outputs": [],
   "source": [
    "# piggy_bank = {\n",
    "#     \"quarters\": 178,\n",
    "#     \"nickels\": 214,\n",
    "#     \"dimes\": 290,\n",
    "#     \"pennies\": 435    \n",
    "# }"
   ]
  },
  {
   "cell_type": "code",
   "execution_count": 100,
   "metadata": {
    "scrolled": true
   },
   "outputs": [],
   "source": [
    "# dollar_amount = calc_dollars(piggy_bank)"
   ]
  },
  {
   "cell_type": "code",
   "execution_count": 101,
   "metadata": {},
   "outputs": [],
   "source": [
    "# print(dollar_amount)"
   ]
  },
  {
   "cell_type": "code",
   "execution_count": 2,
   "metadata": {},
   "outputs": [],
   "source": [
    "# def calc_dollars(quarters, nickels, dimes, pennies):\n",
    "#     \"\"\"Find how much money you have in dollars.\"\"\"\n",
    "#     piggy_bank = {\n",
    "#         \"quarters\": quarters / 4,  \n",
    "#         \"nickels\": nickels / 20,\n",
    "#         \"dimes\": dimes / 10,\n",
    "#         \"pennies\": pennies / 100\n",
    "#     }\n",
    "#     sum_dollars = (quarters / 4) + (nickels / 20) + (dimes / 10) + (pennies / 100)\n",
    "#     return sum_dollars"
   ]
  },
  {
   "cell_type": "code",
   "execution_count": 3,
   "metadata": {},
   "outputs": [
    {
     "name": "stdout",
     "output_type": "stream",
     "text": [
      "88.55\n"
     ]
    }
   ],
   "source": [
    "# dollar_amount = calc_dollars(178, 214, 290, 435)\n",
    "# print(dollar_amount)"
   ]
  },
  {
   "cell_type": "markdown",
   "metadata": {},
   "source": [
    "<hr>\n",
    "\n",
    "## Part II: Cash to Coins\n",
    "\n",
    "Now.. Do the reverse. \n",
    "Convert the dollar amount into the coins that make up that dollar amount. \n",
    "The final result is an object with the correct number of quarters, dimes, nickels, and pennies."
   ]
  },
  {
   "cell_type": "code",
   "execution_count": 22,
   "metadata": {},
   "outputs": [
    {
     "name": "stdout",
     "output_type": "stream",
     "text": [
      "88.55\n"
     ]
    }
   ],
   "source": [
    "print(dollar_amount)"
   ]
  },
  {
   "cell_type": "code",
   "execution_count": null,
   "metadata": {},
   "outputs": [],
   "source": [
    "def calc_coins(amount):\n",
    "    piggy_bank = {\n",
    "       \"quarters\": 0,\n",
    "        \"nickels\": 0,\n",
    "        \"dimes\": 0,\n",
    "        \"pennies\": 0 \n",
    "    }\n",
    "    conv_dollars = \n",
    "    "
   ]
  },
  {
   "cell_type": "code",
   "execution_count": 23,
   "metadata": {},
   "outputs": [],
   "source": [
    "dollar_amount_example = 88.55\n",
    "\n",
    "piggy_bank_example = {\n",
    "    \"quarters\": 0,\n",
    "    \"nickels\": 0,\n",
    "    \"dimes\": 0,\n",
    "    \"pennies\": 0\n",
    "    }\n",
    "\n",
    "# Your magic Python code here\n",
    "    "
   ]
  },
  {
   "cell_type": "markdown",
   "metadata": {},
   "source": [
    "That should produce the following output.\n",
    "\n",
    "```\n",
    ">>> print(piggyBank)\n",
    "{ 'quarters': 34, 'nickels': 1, 'dimes': 1, 'pennies': 4 }\n",
    "```"
   ]
  },
  {
   "cell_type": "code",
   "execution_count": 27,
   "metadata": {},
   "outputs": [],
   "source": [
    "# def calc_coins(quarters, nickels, dimes, pennies):\n",
    "#     piggy_bank_2 = {\n",
    "#         \"quarters\": quarters,\n",
    "#         \"nickels\": nickels,\n",
    "#         \"dimes\": dimes,\n",
    "#         \"pennies\": pennies\n",
    "#     }\n",
    "#     return piggy_bank"
   ]
  },
  {
   "cell_type": "code",
   "execution_count": 28,
   "metadata": {},
   "outputs": [
    {
     "name": "stdout",
     "output_type": "stream",
     "text": [
      "{'quarters': 178, 'nickels': 214, 'dimes': 290, 'pennies': 435}\n"
     ]
    }
   ],
   "source": [
    "# coin_amount = calc_coins(178, 214, 290, 435)\n",
    "# print(coin_amount)"
   ]
  }
 ],
 "metadata": {
  "kernelspec": {
   "display_name": "Python 3",
   "language": "python",
   "name": "python3"
  },
  "language_info": {
   "codemirror_mode": {
    "name": "ipython",
    "version": 3
   },
   "file_extension": ".py",
   "mimetype": "text/x-python",
   "name": "python",
   "nbconvert_exporter": "python",
   "pygments_lexer": "ipython3",
   "version": "3.7.3"
  }
 },
 "nbformat": 4,
 "nbformat_minor": 2
}
