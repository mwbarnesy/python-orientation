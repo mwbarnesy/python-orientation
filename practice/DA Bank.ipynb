{
 "cells": [
  {
   "cell_type": "markdown",
   "metadata": {},
   "source": [
    "# DA Bank\n",
    "\n",
    "## Part I: Coins to Cash\n",
    "\n",
    "Create a function called `calc_dollars`. \n",
    "In the function body, define a dictionary and store it in a variable named `piggy_bank`. \n",
    "The dictionary should have the following keys defined.\n",
    "* quarters\n",
    "* nickels\n",
    "* dimes\n",
    "* pennies\n",
    "\n",
    "For each coin type, give yourself as many as you like.\n",
    "```py\n",
    "piggy_bank = {\n",
    "    \"pennies\": 342,\n",
    "    \"nickels\": 9,\n",
    "    \"dimes\": 32\n",
    "}\n",
    "```\n",
    "\n",
    "Once you have given yourself a large stash of coins in your `piggy_bank`, look at each key and perform the appropriate math on the integer value to determine how much money you have in dollars. \n",
    "Store that value in a variable named `dollar_amount` and print it.\n",
    "\n",
    "Given the coins shown above, the output would be `7.07` when you call `calc_dollars()`."
   ]
  },
  {
   "cell_type": "code",
   "execution_count": 68,
   "metadata": {},
   "outputs": [],
   "source": [
    "def calc_dollars(quarters, nickels, dimes, pennies):\n",
    "    \"\"\"Calculate the total dollars in the piggy bank.\"\"\"\n",
    "    piggy_bank = {\n",
    "        \"quarters\": quarters,\n",
    "        \"nickels\": nickels,\n",
    "        \"dimes\": dimes,\n",
    "        \"pennies\": pennies\n",
    "    }\n",
    "    sum_dollars = \n",
    "    \n",
    "    (quarters/4) + (nickels/20) + (dimes/10) + (pennies/100)\n",
    "    return sum_dollars"
   ]
  },
  {
   "cell_type": "code",
   "execution_count": 69,
   "metadata": {},
   "outputs": [],
   "source": [
    "piggy_bank = {\n",
    "    \"quarters\": 178,\n",
    "    \"nickels\": 214,\n",
    "    \"dimes\": 290,\n",
    "    \"pennies\": 435    \n",
    "}"
   ]
  },
  {
   "cell_type": "code",
   "execution_count": 73,
   "metadata": {},
   "outputs": [
    {
     "name": "stdout",
     "output_type": "stream",
     "text": [
      "[178, 214, 290, 435]\n"
     ]
    }
   ],
   "source": [
    "piggy_bank_values = list(piggy_bank.values())\n",
    "print(piggy_bank_values)"
   ]
  },
  {
   "cell_type": "code",
   "execution_count": 75,
   "metadata": {
    "scrolled": false
   },
   "outputs": [
    {
     "ename": "TypeError",
     "evalue": "calc_dollars() missing 3 required positional arguments: 'nickels', 'dimes', and 'pennies'",
     "output_type": "error",
     "traceback": [
      "\u001b[1;31m---------------------------------------------------------------------------\u001b[0m",
      "\u001b[1;31mTypeError\u001b[0m                                 Traceback (most recent call last)",
      "\u001b[1;32m<ipython-input-75-9e633c6880fb>\u001b[0m in \u001b[0;36m<module>\u001b[1;34m\u001b[0m\n\u001b[1;32m----> 1\u001b[1;33m \u001b[0mdollar_amount\u001b[0m \u001b[1;33m=\u001b[0m \u001b[0mcalc_dollars\u001b[0m\u001b[1;33m(\u001b[0m\u001b[0mpiggy_bank_values\u001b[0m\u001b[1;33m)\u001b[0m\u001b[1;33m\u001b[0m\u001b[1;33m\u001b[0m\u001b[0m\n\u001b[0m",
      "\u001b[1;31mTypeError\u001b[0m: calc_dollars() missing 3 required positional arguments: 'nickels', 'dimes', and 'pennies'"
     ]
    }
   ],
   "source": [
    "dollar_amount = calc_dollars(piggy_bank_values)"
   ]
  },
  {
   "cell_type": "code",
   "execution_count": 61,
   "metadata": {},
   "outputs": [
    {
     "name": "stdout",
     "output_type": "stream",
     "text": [
      "88.55\n"
     ]
    }
   ],
   "source": [
    "print(dollar_amount)"
   ]
  },
  {
   "cell_type": "code",
   "execution_count": 2,
   "metadata": {},
   "outputs": [],
   "source": [
    "# def calc_dollars(quarters, nickels, dimes, pennies):\n",
    "#     \"\"\"Find how much money you have in dollars.\"\"\"\n",
    "#     piggy_bank = {\n",
    "#         \"quarters\": quarters / 4,  \n",
    "#         \"nickels\": nickels / 20,\n",
    "#         \"dimes\": dimes / 10,\n",
    "#         \"pennies\": pennies / 100\n",
    "#     }\n",
    "#     sum_dollars = (quarters / 4) + (nickels / 20) + (dimes / 10) + (pennies / 100)\n",
    "#     return sum_dollars"
   ]
  },
  {
   "cell_type": "code",
   "execution_count": 3,
   "metadata": {},
   "outputs": [
    {
     "name": "stdout",
     "output_type": "stream",
     "text": [
      "88.55\n"
     ]
    }
   ],
   "source": [
    "# dollar_amount = calc_dollars(178, 214, 290, 435)\n",
    "# print(dollar_amount)"
   ]
  },
  {
   "cell_type": "markdown",
   "metadata": {},
   "source": [
    "<hr>\n",
    "\n",
    "## Part II: Cash to Coins\n",
    "\n",
    "Now.. Do the reverse. \n",
    "Convert the dollar amount into the coins that make up that dollar amount. \n",
    "The final result is an object with the correct number of quarters, dimes, nickels, and pennies."
   ]
  },
  {
   "cell_type": "code",
   "execution_count": 22,
   "metadata": {},
   "outputs": [
    {
     "name": "stdout",
     "output_type": "stream",
     "text": [
      "88.55\n"
     ]
    }
   ],
   "source": [
    "print(dollar_amount)"
   ]
  },
  {
   "cell_type": "code",
   "execution_count": null,
   "metadata": {},
   "outputs": [],
   "source": [
    "def calc_coins(amount):\n",
    "    piggy_bank = {\n",
    "       \"quarters\": 0,\n",
    "        \"nickels\": 0,\n",
    "        \"dimes\": 0,\n",
    "        \"pennies\": 0 \n",
    "    }\n",
    "    conv_dollars = \n",
    "    "
   ]
  },
  {
   "cell_type": "code",
   "execution_count": 23,
   "metadata": {},
   "outputs": [],
   "source": [
    "dollar_amount_example = 88.55\n",
    "\n",
    "piggy_bank_example = {\n",
    "    \"quarters\": 0,\n",
    "    \"nickels\": 0,\n",
    "    \"dimes\": 0,\n",
    "    \"pennies\": 0\n",
    "    }\n",
    "\n",
    "# Your magic Python code here\n",
    "    "
   ]
  },
  {
   "cell_type": "markdown",
   "metadata": {},
   "source": [
    "That should produce the following output.\n",
    "\n",
    "```\n",
    ">>> print(piggyBank)\n",
    "{ 'quarters': 34, 'nickels': 1, 'dimes': 1, 'pennies': 4 }\n",
    "```"
   ]
  },
  {
   "cell_type": "code",
   "execution_count": 27,
   "metadata": {},
   "outputs": [],
   "source": [
    "# def calc_coins(quarters, nickels, dimes, pennies):\n",
    "#     piggy_bank_2 = {\n",
    "#         \"quarters\": quarters,\n",
    "#         \"nickels\": nickels,\n",
    "#         \"dimes\": dimes,\n",
    "#         \"pennies\": pennies\n",
    "#     }\n",
    "#     return piggy_bank"
   ]
  },
  {
   "cell_type": "code",
   "execution_count": 28,
   "metadata": {},
   "outputs": [
    {
     "name": "stdout",
     "output_type": "stream",
     "text": [
      "{'quarters': 178, 'nickels': 214, 'dimes': 290, 'pennies': 435}\n"
     ]
    }
   ],
   "source": [
    "# coin_amount = calc_coins(178, 214, 290, 435)\n",
    "# print(coin_amount)"
   ]
  }
 ],
 "metadata": {
  "kernelspec": {
   "display_name": "Python 3",
   "language": "python",
   "name": "python3"
  },
  "language_info": {
   "codemirror_mode": {
    "name": "ipython",
    "version": 3
   },
   "file_extension": ".py",
   "mimetype": "text/x-python",
   "name": "python",
   "nbconvert_exporter": "python",
   "pygments_lexer": "ipython3",
   "version": "3.7.3"
  }
 },
 "nbformat": 4,
 "nbformat_minor": 2
}
