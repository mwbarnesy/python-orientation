{
 "cells": [
  {
   "cell_type": "markdown",
   "metadata": {},
   "source": [
    "# Dictionary of Words\n",
    "\n",
    "You are going to build a Python Dictionary to represent an actual dictionary. \n",
    "Each key/value pair within the Dictionary will contain a single word as the key, and a definition as the value. \n",
    "Below is some starter code. \n",
    "You need to add a few more words and definitions to the dictionary.\n",
    "\n",
    "After you have added them, use square bracket notation to output the definition of two of the words to the console.\n",
    "\n",
    "Lastly, use the for in loop to iterate over the KeyValuePairs and display the entire dictionary to the console."
   ]
  },
  {
   "cell_type": "code",
   "execution_count": null,
   "metadata": {},
   "outputs": [],
   "source": [
    "\"\"\"\n",
    "Create a dictionary with key value pairs to\n",
    "represent words (key) and its definition (value)\n",
    "\"\"\"\n",
    "word_definitions = dict()\n",
    "\n",
    "\"\"\"\n",
    "Add several more words and their definitions\n",
    "   Example: word_definitions[\"Awesome\"] = \"The feeling of students when they are learning Python\"\n",
    "\"\"\"\n",
    "\n",
    "\"\"\"\n",
    "Use square bracket lookup to get the definition of two\n",
    "words and output them to the console with `print()`\n",
    "\"\"\"\n",
    "\n",
    "\n",
    "\"\"\"\n",
    "Loop over the dictionary to get the following output:\n",
    "    The definition of [WORD] is [DEFINITION]\n",
    "    The definition of [WORD] is [DEFINITION]\n",
    "    The definition of [WORD] is [DEFINITION]\n",
    "\"\"\""
   ]
  },
  {
   "cell_type": "code",
   "execution_count": 1,
   "metadata": {},
   "outputs": [],
   "source": [
    "word_definitions = dict()"
   ]
  },
  {
   "cell_type": "code",
   "execution_count": 2,
   "metadata": {},
   "outputs": [],
   "source": [
    "word_definitions = {\n",
    "    \"Dangit\": \"What you say when you're frustrated\",\n",
    "    \"Shoot\": \"What you say when the last cookie is eaten\",\n",
    "    \"Curse\": \"What you say when everything goes wrong\",\n",
    "    \"Blast\": \"What you say when your car won't start\",\n",
    "    \"Boo\": \"What you say when there's no more milk at the store\",\n",
    "    \"Germs\": \"What you say when there's no more sanitizer on the face of the planet\"\n",
    "}"
   ]
  },
  {
   "cell_type": "code",
   "execution_count": 10,
   "metadata": {},
   "outputs": [
    {
     "name": "stdout",
     "output_type": "stream",
     "text": [
      "What you say when your car won't start\n",
      "What you say when there's no more sanitizer on the face of the planet\n"
     ]
    }
   ],
   "source": [
    "print(word_definitions['Blast'])\n",
    "print(word_definitions['Germs'])"
   ]
  },
  {
   "cell_type": "code",
   "execution_count": 15,
   "metadata": {},
   "outputs": [
    {
     "name": "stdout",
     "output_type": "stream",
     "text": [
      "The definitions of Dangit is What you say when you're frustrated\n",
      "The definitions of Shoot is What you say when the last cookie is eaten\n",
      "The definitions of Curse is What you say when everything goes wrong\n",
      "The definitions of Blast is What you say when your car won't start\n",
      "The definitions of Boo is What you say when there's no more milk at the store\n",
      "The definitions of Germs is What you say when there's no more sanitizer on the face of the planet\n"
     ]
    }
   ],
   "source": [
    "for (key, value) in word_definitions.items():\n",
    "    print(\"The definitions of\", key, \"is\", value)"
   ]
  },
  {
   "cell_type": "code",
   "execution_count": null,
   "metadata": {},
   "outputs": [],
   "source": []
  }
 ],
 "metadata": {
  "kernelspec": {
   "display_name": "Python 3",
   "language": "python",
   "name": "python3"
  },
  "language_info": {
   "codemirror_mode": {
    "name": "ipython",
    "version": 3
   },
   "file_extension": ".py",
   "mimetype": "text/x-python",
   "name": "python",
   "nbconvert_exporter": "python",
   "pygments_lexer": "ipython3",
   "version": "3.7.3"
  }
 },
 "nbformat": 4,
 "nbformat_minor": 2
}
